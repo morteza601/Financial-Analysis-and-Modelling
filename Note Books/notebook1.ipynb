{
 "cells": [
  {
   "cell_type": "code",
   "execution_count": 13,
   "metadata": {
    "collapsed": true
   },
   "outputs": [],
   "source": [
    "import ta\n",
    "import sqlalchemy\n",
    "import pandas as pd\n",
    "import yfinance as yf"
   ]
  },
  {
   "cell_type": "code",
   "execution_count": 2,
   "outputs": [],
   "source": [
    "engine = sqlalchemy.create_engine('sqlite:///USA')"
   ],
   "metadata": {
    "collapsed": false
   }
  },
  {
   "cell_type": "code",
   "execution_count": 5,
   "outputs": [
    {
     "data": {
      "text/plain": "['MMM',\n 'AXP',\n 'AMGN',\n 'AMZN',\n 'AAPL',\n 'BA',\n 'CAT',\n 'CVX',\n 'CSCO',\n 'KO',\n 'DIS',\n 'DOW',\n 'GS',\n 'HD',\n 'HON',\n 'IBM',\n 'INTC',\n 'JNJ',\n 'JPM',\n 'MCD',\n 'MRK',\n 'MSFT',\n 'NKE',\n 'PG',\n 'CRM',\n 'TRV',\n 'UNH',\n 'VZ',\n 'V',\n 'WMT']"
     },
     "execution_count": 5,
     "metadata": {},
     "output_type": "execute_result"
    }
   ],
   "source": [
    "names = pd.read_sql(\"select name from sqlite_master where type = 'table';\", con=engine)\n",
    "names = names.name.to_list()\n",
    "names"
   ],
   "metadata": {
    "collapsed": false
   }
  },
  {
   "cell_type": "code",
   "execution_count": 6,
   "outputs": [],
   "source": [
    "framelist = []\n",
    "\n",
    "for name in names:\n",
    "    framelist.append(\n",
    "        pd.read_sql(f\"select Date, Close from '{name}'\", con=engine)\n",
    "    )"
   ],
   "metadata": {
    "collapsed": false
   }
  },
  {
   "cell_type": "code",
   "execution_count": 8,
   "outputs": [],
   "source": [
    "def MACDdecision(df):\n",
    "    df['MACD_diff'] = ta.trend.macd_diff(df.Close)\n",
    "    df.loc[(df.MACD_diff > 0) & (df.MACD_diff.shift(1) < 0), 'Decision MACD'] = 'Buy'\n",
    "\n",
    "\n",
    "def RSI_SMAdecision(df):\n",
    "    df['RSI'] = ta.momentum.rsi(df.Close, window=10)\n",
    "    df['SMA200'] = ta.trend.sma_indicator(df.Close, window=200)\n",
    "    df.loc[(df.Close > df.SMA200) & (df.RSI < 30), 'Decision RSI/SMA'] = 'Buy'\n",
    "\n"
   ],
   "metadata": {
    "collapsed": false
   }
  },
  {
   "cell_type": "code",
   "execution_count": 9,
   "outputs": [],
   "source": [
    "for frame in framelist:\n",
    "    MACDdecision(frame)\n",
    "    RSI_SMAdecision(frame)"
   ],
   "metadata": {
    "collapsed": false
   }
  },
  {
   "cell_type": "code",
   "execution_count": 12,
   "outputs": [
    {
     "name": "stdout",
     "output_type": "stream",
     "text": [
      "Buying Signal MACD for AMGN\n"
     ]
    }
   ],
   "source": [
    "for name, frame in zip(names, framelist):\n",
    "    if frame['Decision MACD'].iloc[-1] == 'Buy':\n",
    "        print(f\"Buying Signal MACD for {name}\")\n",
    "\n",
    "    if frame['Decision RSI/SMA'].iloc[-1] == 'Buy':\n",
    "        print(f\"Buying Signal RSI/SMA for {name}\")"
   ],
   "metadata": {
    "collapsed": false
   }
  },
  {
   "cell_type": "code",
   "execution_count": null,
   "outputs": [],
   "source": [],
   "metadata": {
    "collapsed": false,
    "pycharm": {
     "is_executing": true
    }
   }
  },
  {
   "cell_type": "code",
   "execution_count": null,
   "outputs": [],
   "source": [],
   "metadata": {
    "collapsed": false,
    "pycharm": {
     "is_executing": true
    }
   }
  },
  {
   "cell_type": "code",
   "execution_count": 13,
   "outputs": [],
   "source": [],
   "metadata": {
    "collapsed": false
   }
  }
 ],
 "metadata": {
  "kernelspec": {
   "display_name": "Python 3",
   "language": "python",
   "name": "python3"
  },
  "language_info": {
   "codemirror_mode": {
    "name": "ipython",
    "version": 2
   },
   "file_extension": ".py",
   "mimetype": "text/x-python",
   "name": "python",
   "nbconvert_exporter": "python",
   "pygments_lexer": "ipython2",
   "version": "2.7.6"
  }
 },
 "nbformat": 4,
 "nbformat_minor": 0
}
